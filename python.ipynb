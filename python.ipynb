{
 "cells": [
  {
   "cell_type": "code",
   "execution_count": 1,
   "metadata": {},
   "outputs": [
    {
     "name": "stdout",
     "output_type": "stream",
     "text": [
      "hello world\n"
     ]
    }
   ],
   "source": [
    "print(\"hello world\")"
   ]
  },
  {
   "cell_type": "markdown",
   "metadata": {},
   "source": [
    "# variables"
   ]
  },
  {
   "cell_type": "code",
   "execution_count": 5,
   "metadata": {},
   "outputs": [
    {
     "name": "stdout",
     "output_type": "stream",
     "text": [
      "hello\n"
     ]
    }
   ],
   "source": [
    "a=\"hello\"\n",
    "print(a)"
   ]
  },
  {
   "cell_type": "code",
   "execution_count": 6,
   "metadata": {},
   "outputs": [
    {
     "name": "stdout",
     "output_type": "stream",
     "text": [
      "hello\n"
     ]
    }
   ],
   "source": [
    "a='hello'\n",
    "print(a)"
   ]
  },
  {
   "cell_type": "code",
   "execution_count": 7,
   "metadata": {},
   "outputs": [
    {
     "name": "stdout",
     "output_type": "stream",
     "text": [
      "a\n"
     ]
    }
   ],
   "source": [
    "a='hello'\n",
    "print('a')"
   ]
  },
  {
   "cell_type": "markdown",
   "metadata": {},
   "source": [
    "# Datatype"
   ]
  },
  {
   "cell_type": "code",
   "execution_count": null,
   "metadata": {},
   "outputs": [],
   "source": [
    "a=5.6\n",
    "b=8.2\n",
    "c='5.0'\n",
    "print(a+b)\n",
    "print(a,b,c)  #print multiple characters."
   ]
  },
  {
   "cell_type": "code",
   "execution_count": 11,
   "metadata": {},
   "outputs": [
    {
     "name": "stdout",
     "output_type": "stream",
     "text": [
      "##########\n"
     ]
    }
   ],
   "source": [
    "print('#'*10) # multiple characters"
   ]
  },
  {
   "cell_type": "code",
   "execution_count": 12,
   "metadata": {},
   "outputs": [
    {
     "name": "stdout",
     "output_type": "stream",
     "text": [
      "kirankirankirankirankirankirankiran\n"
     ]
    }
   ],
   "source": [
    "print(\"kiran\"*7)"
   ]
  },
  {
   "cell_type": "code",
   "execution_count": 13,
   "metadata": {},
   "outputs": [
    {
     "name": "stdout",
     "output_type": "stream",
     "text": [
      "kiran\n",
      "kiran\n",
      "kiran\n",
      "kiran\n",
      "kiran\n",
      "kiran\n",
      "kiran\n",
      "\n"
     ]
    }
   ],
   "source": [
    "print(\"kiran\\n\"*7)"
   ]
  },
  {
   "cell_type": "code",
   "execution_count": 14,
   "metadata": {},
   "outputs": [
    {
     "name": "stdout",
     "output_type": "stream",
     "text": [
      "20\n"
     ]
    }
   ],
   "source": [
    "print(10*2)"
   ]
  },
  {
   "cell_type": "code",
   "execution_count": 15,
   "metadata": {},
   "outputs": [
    {
     "name": "stdout",
     "output_type": "stream",
     "text": [
      "1010\n"
     ]
    }
   ],
   "source": [
    "print(\"10\"*2)"
   ]
  },
  {
   "cell_type": "markdown",
   "metadata": {},
   "source": [
    "Note: There is no limit on size of datatypes.The user friendliness of python comes at cost of efficiency."
   ]
  },
  {
   "cell_type": "code",
   "execution_count": 17,
   "metadata": {},
   "outputs": [
    {
     "name": "stdout",
     "output_type": "stream",
     "text": [
      "40000000.0\n",
      "4e-07\n"
     ]
    }
   ],
   "source": [
    "print(4e7)\n",
    "print(4e-7)"
   ]
  },
  {
   "cell_type": "code",
   "execution_count": 23,
   "metadata": {},
   "outputs": [
    {
     "name": "stdout",
     "output_type": "stream",
     "text": [
      "<class 'float'>\n",
      "<class 'str'>\n",
      "<class 'float'>\n",
      "<class 'int'>\n",
      "<class 'str'>\n",
      "<class 'bool'>\n",
      "<class 'bool'>\n"
     ]
    }
   ],
   "source": [
    "a=5.7\n",
    "print(type(a))\n",
    "print(type(\"a\"))\n",
    "print(type(4e7))\n",
    "print(type(2))\n",
    "print(type('a'))\n",
    "print(type(True))\n",
    "print(type(False))"
   ]
  },
  {
   "cell_type": "code",
   "execution_count": 33,
   "metadata": {},
   "outputs": [
    {
     "name": "stdout",
     "output_type": "stream",
     "text": [
      "2\n",
      "2.5\n",
      "25\n",
      "-3\n",
      "True\n",
      "True\n"
     ]
    }
   ],
   "source": [
    "a=5\n",
    "b=2\n",
    "print(a//b)\n",
    "print(a/b)\n",
    "print(a**b)\n",
    "print(-10//4)\n",
    "print(a>=b)\n",
    "c='kiran'\n",
    "d='mansi'\n",
    "print(c<=d) # compares ascii value"
   ]
  },
  {
   "cell_type": "code",
   "execution_count": 42,
   "metadata": {},
   "outputs": [
    {
     "name": "stdout",
     "output_type": "stream",
     "text": [
      "kiran sharma\n",
      "kirankiran\n",
      "True\n",
      "False\n",
      "True\n"
     ]
    }
   ],
   "source": [
    "# Strings and Operators\n",
    "\n",
    "a=\"kiran\"\n",
    "b=\"sharma\"\n",
    "print(a+\" \"+b)\n",
    "print(a*2)\n",
    "\n",
    "# T0 find presence of character or substring\n",
    "s=\"machine learning\"\n",
    "n=\"chi\"\n",
    "p=\"I\"\n",
    "print(n in s)\n",
    "print((n in s )and (p in s))\n",
    "print((n in s) and (p not in s))\n"
   ]
  },
  {
   "cell_type": "markdown",
   "metadata": {},
   "source": [
    "# Built-in String Functions\n",
    "\n",
    "chr () --> converts an integer into a character.\n",
    "ord() --> converts character into integer.\n",
    "len() --> return length of string.\n",
    "str() -->returns string representation of an object.\n",
    "s.count(<substring>) --> returns the number of non overlapping occurrences of substring.\n",
    "s.replace(<str>)\n"
   ]
  },
  {
   "cell_type": "code",
   "execution_count": 86,
   "metadata": {},
   "outputs": [
    {
     "name": "stdout",
     "output_type": "stream",
     "text": [
      "A\n",
      "115\n",
      "16\n",
      "4\n",
      "MACAE LEARNING\n",
      "8\n",
      "8\n",
      "lalalalalalalala\n"
     ]
    }
   ],
   "source": [
    "print(chr(65))\n",
    "print(ord('s'))\n",
    "print(len(\"machine learning\"))\n",
    "print(str(4))\n",
    "print(s.upper())\n",
    "string=\"lalalala lalalala\"\n",
    "print(string.count(\"la\"))\n",
    "string=\"lalalalalalalala\"\n",
    "print(string.count(\"la\")) #spaces does'nt matter\n",
    "print(string.replace(\" \",\"\")) \n"
   ]
  },
  {
   "cell_type": "code",
   "execution_count": 53,
   "metadata": {},
   "outputs": [
    {
     "name": "stdout",
     "output_type": "stream",
     "text": [
      "e\n",
      "n\n",
      "g\n"
     ]
    }
   ],
   "source": [
    "# String Indexing\n",
    "\n",
    "print(s[6])   # starts from 0.\n",
    "print(s[-4])  # starts from -1.\n",
    "print(s[len(s)-1])"
   ]
  },
  {
   "cell_type": "code",
   "execution_count": 66,
   "metadata": {},
   "outputs": [
    {
     "name": "stdout",
     "output_type": "stream",
     "text": [
      "chine \n",
      "machine \n",
      "chine learning\n",
      "cie\n",
      "gire nha\n"
     ]
    }
   ],
   "source": [
    "# String Slicing\n",
    "print(s[2:8]) # do not include last character\n",
    "print(s[:8])  #from 0 to end index\n",
    "print(s[2:])  #from starting index to end\n",
    "print(s[2:8:2]) #third parameter is step size\n",
    "print(s[.::-2]) #reverses a string "
   ]
  },
  {
   "cell_type": "code",
   "execution_count": 73,
   "metadata": {},
   "outputs": [
    {
     "name": "stdout",
     "output_type": "stream",
     "text": [
      "The product of 5 and 2 is 10\n"
     ]
    }
   ],
   "source": [
    "# Modifying strings\n",
    "a=5\n",
    "b=2\n",
    "prod=a*b\n",
    "print(f'The product of {a} and {b} is {prod}')"
   ]
  },
  {
   "cell_type": "code",
   "execution_count": 74,
   "metadata": {},
   "outputs": [
    {
     "ename": "TypeError",
     "evalue": "'str' object does not support item assignment",
     "output_type": "error",
     "traceback": [
      "\u001b[1;31m---------------------------------------------------------------------------\u001b[0m",
      "\u001b[1;31mTypeError\u001b[0m                                 Traceback (most recent call last)",
      "\u001b[1;32m<ipython-input-74-8102e16cb028>\u001b[0m in \u001b[0;36m<module>\u001b[1;34m\u001b[0m\n\u001b[1;32m----> 1\u001b[1;33m \u001b[0ms\u001b[0m\u001b[1;33m[\u001b[0m\u001b[1;36m4\u001b[0m\u001b[1;33m]\u001b[0m\u001b[1;33m=\u001b[0m\u001b[0ma\u001b[0m\u001b[1;33m\u001b[0m\u001b[1;33m\u001b[0m\u001b[0m\n\u001b[0m",
      "\u001b[1;31mTypeError\u001b[0m: 'str' object does not support item assignment"
     ]
    }
   ],
   "source": [
    "s[4]=a  #string can not be changed\n"
   ]
  },
  {
   "cell_type": "code",
   "execution_count": 77,
   "metadata": {},
   "outputs": [
    {
     "name": "stdout",
     "output_type": "stream",
     "text": [
      "macae learning\n"
     ]
    }
   ],
   "source": [
    "s=s[:3]+'a'+s[4:] #to change string\n",
    "print(s)"
   ]
  },
  {
   "cell_type": "code",
   "execution_count": 87,
   "metadata": {},
   "outputs": [
    {
     "name": "stdout",
     "output_type": "stream",
     "text": [
      "('machine learning ', 'is ', 'ughhhh!!!!!!!!!')\n"
     ]
    }
   ],
   "source": [
    "# string Partition\n",
    "s=\"machine learning is ughhhh!!!!!!!!!\"\n",
    "print(s.partition('is '))"
   ]
  },
  {
   "cell_type": "markdown",
   "metadata": {},
   "source": [
    "# Data Structures\n"
   ]
  },
  {
   "cell_type": "markdown",
   "metadata": {},
   "source": [
    "# Python Lists"
   ]
  },
  {
   "cell_type": "code",
   "execution_count": 123,
   "metadata": {},
   "outputs": [
    {
     "name": "stdout",
     "output_type": "stream",
     "text": [
      "['kiran', 5, 2.0, ['bat', 7]]\n",
      "bat\n",
      "False\n",
      "['bat', 7]\n",
      "[['bat', 7], 2.0, 5, 'kiran']\n",
      "True\n",
      "False\n",
      "['kiran', 5, 2.0, ['bat', 7], 5, 'kiran', 2.0, ['bat', 7]]\n",
      "['kiran', 5, 2.0, ['bat', 7], 'kiran', 5, 2.0, ['bat', 7], 'kiran', 5, 2.0, ['bat', 7]]\n",
      "['kiran', ['bat', 7]]\n",
      "['kiran']\n",
      "['kiran', [5, 'bat']]\n",
      "['kiran', [5, 'bat'], 2, 7]\n",
      "['kiran', [5, 'bat'], 'cat']\n",
      "[[5, 'bat'], 'cat']\n"
     ]
    }
   ],
   "source": [
    "#python Lists\n",
    "\n",
    "a=['kiran',5,2.0,['bat',7]] #lists are mutable\n",
    "print(a)\n",
    "print(a[3][0])\n",
    "\n",
    "#list are ordered\n",
    "b=[5,'kiran',2.0,['bat',7]]\n",
    "print(a==b) #Lists are ordered\n",
    "\n",
    "print(a[-1]) \n",
    "print(a[::-1])\n",
    "\n",
    "print('kiran' in a)\n",
    "print('bat' in a) #works at surface level\n",
    "\n",
    "print(a+b) #concatenate two lists\n",
    "print(a*3)\n",
    "\n",
    "a[1:3]=[] #deleting\n",
    "print(a)\n",
    "del(a[1:3]) #deleting\n",
    "print(a)\n",
    "\n",
    "a.append([5,'bat']) #appending two lists\n",
    "print(a)\n",
    "\n",
    "b=[2,7]\n",
    "print(a+b) #concatenating two lists\n",
    "\n",
    "a.insert(2,'cat')\n",
    "print(a)\n",
    "\n",
    "a.remove('kiran')\n",
    "print(a)"
   ]
  },
  {
   "cell_type": "markdown",
   "metadata": {},
   "source": [
    "# Tuples"
   ]
  },
  {
   "cell_type": "code",
   "execution_count": 133,
   "metadata": {},
   "outputs": [
    {
     "name": "stdout",
     "output_type": "stream",
     "text": [
      "('goa', 'sapna', 420)\n",
      "(420, 'sapna', 'goa')\n",
      "goa\n",
      "sapna\n",
      "420\n"
     ]
    }
   ],
   "source": [
    "# Tuples are imutable\n",
    "a=('goa','sapna',420)\n",
    "print(a)\n",
    "print(a[::-1]) #reverses the tuple\n",
    "\n",
    "#unpacking \n",
    "s1,s2,s3=a\n",
    "print(s1)\n",
    "print(s2)\n",
    "print(s3)"
   ]
  },
  {
   "cell_type": "markdown",
   "metadata": {},
   "source": [
    "# swapping"
   ]
  },
  {
   "cell_type": "code",
   "execution_count": 134,
   "metadata": {},
   "outputs": [
    {
     "name": "stdout",
     "output_type": "stream",
     "text": [
      "5 2\n",
      "2 5\n"
     ]
    }
   ],
   "source": [
    "a,b=5,2\n",
    "print(a,b)\n",
    "b,a=a,b\n",
    "print(a,b)"
   ]
  },
  {
   "cell_type": "markdown",
   "metadata": {},
   "source": [
    "# Dictionaries"
   ]
  },
  {
   "cell_type": "code",
   "execution_count": 168,
   "metadata": {},
   "outputs": [
    {
     "ename": "SyntaxError",
     "evalue": "invalid syntax (<ipython-input-168-74a4c0a0ad7b>, line 38)",
     "output_type": "error",
     "traceback": [
      "\u001b[1;36m  File \u001b[1;32m\"<ipython-input-168-74a4c0a0ad7b>\"\u001b[1;36m, line \u001b[1;32m38\u001b[0m\n\u001b[1;33m    dictn.update(('f':12))\u001b[0m\n\u001b[1;37m                     ^\u001b[0m\n\u001b[1;31mSyntaxError\u001b[0m\u001b[1;31m:\u001b[0m invalid syntax\n"
     ]
    }
   ],
   "source": [
    "# dictionaries are mutable,dynamic and nested.\n",
    "# keys cannot be mutable\n",
    "# Elements are accessed through key.\n",
    "# Also called associative array.\n",
    "# unordered\n",
    "\n",
    "dictn={\n",
    "    'a':1,\n",
    "    'b':2,\n",
    "    'c':3\n",
    "}                #method 1\n",
    "\n",
    "dictn=dict([('a',1),('b',2),('c',3)])   #method 2\n",
    "\n",
    "print(dictn)\n",
    "print(dictn['a'])  #acess\n",
    "\n",
    "dictn['a']=5\n",
    "print(dictn['a'])\n",
    "\n",
    "dictn['m']=7\n",
    "print(dictn)\n",
    "\n",
    "dictn['k']={\n",
    "    's':9,\n",
    "    'r':10\n",
    "}\n",
    "print(dictn)\n",
    "print(dictn['k']['s'])\n",
    "print('k' in dictn)\n",
    "print(dictn['a'] in dictn)  \n",
    "\n",
    "\n",
    "#dictn.clear()\n",
    "\n",
    "print(dictn.items())\n",
    "\n"
   ]
  },
  {
   "cell_type": "markdown",
   "metadata": {},
   "source": [
    "# Conditional Statements"
   ]
  },
  {
   "cell_type": "code",
   "execution_count": 173,
   "metadata": {},
   "outputs": [
    {
     "name": "stdout",
     "output_type": "stream",
     "text": [
      "8\n",
      "5\n"
     ]
    }
   ],
   "source": [
    "#if\n",
    "\n",
    "a=8\n",
    "b=5\n",
    "if a>b:\n",
    "    print(a)\n",
    "    if a==8:\n",
    "        print(b)"
   ]
  },
  {
   "cell_type": "markdown",
   "metadata": {},
   "source": [
    "# while loop"
   ]
  },
  {
   "cell_type": "code",
   "execution_count": 177,
   "metadata": {},
   "outputs": [
    {
     "name": "stdout",
     "output_type": "stream",
     "text": [
      "1\n",
      "2\n",
      "3\n",
      "4\n",
      "5\n",
      "6\n",
      "7\n",
      "8\n",
      "9\n",
      "10\n"
     ]
    }
   ],
   "source": [
    "a=1\n",
    "while a<=10:\n",
    "    print(a)\n",
    "    a=a+1\n",
    "    "
   ]
  },
  {
   "cell_type": "markdown",
   "metadata": {},
   "source": [
    "# For Loop"
   ]
  },
  {
   "cell_type": "code",
   "execution_count": 183,
   "metadata": {},
   "outputs": [
    {
     "name": "stdout",
     "output_type": "stream",
     "text": [
      "cat\n",
      "mat\n",
      "rat\n"
     ]
    }
   ],
   "source": [
    "a=['cat','mat','rat']\n",
    "\n",
    "for i in a:\n",
    "    print(i)"
   ]
  },
  {
   "cell_type": "markdown",
   "metadata": {},
   "source": [
    "# Taking input"
   ]
  },
  {
   "cell_type": "code",
   "execution_count": 185,
   "metadata": {},
   "outputs": [
    {
     "name": "stdout",
     "output_type": "stream",
     "text": [
      "Enter a number 5\n",
      "5\n"
     ]
    }
   ],
   "source": [
    "a=input('Enter a number ')\n",
    "print(a)"
   ]
  },
  {
   "cell_type": "markdown",
   "metadata": {},
   "source": [
    "# Question:"
   ]
  },
  {
   "cell_type": "code",
   "execution_count": 190,
   "metadata": {},
   "outputs": [
    {
     "name": "stdout",
     "output_type": "stream",
     "text": [
      "Enter first number500\n",
      "Enter second number 600\n",
      "1100\n"
     ]
    }
   ],
   "source": [
    "a=int(input('Enter first number'))\n",
    "b=int(input('Enter second number '))\n",
    "\n",
    "prod=a*b\n",
    "sum=a+b\n",
    "\n",
    "if(prod<1000):\n",
    "    print(prod)\n",
    "    \n",
    "elif(prod>=1000):\n",
    "    print(sum)"
   ]
  },
  {
   "cell_type": "code",
   "execution_count": null,
   "metadata": {},
   "outputs": [],
   "source": []
  },
  {
   "cell_type": "code",
   "execution_count": null,
   "metadata": {},
   "outputs": [],
   "source": []
  }
 ],
 "metadata": {
  "kernelspec": {
   "display_name": "Python 3",
   "language": "python",
   "name": "python3"
  },
  "language_info": {
   "codemirror_mode": {
    "name": "ipython",
    "version": 3
   },
   "file_extension": ".py",
   "mimetype": "text/x-python",
   "name": "python",
   "nbconvert_exporter": "python",
   "pygments_lexer": "ipython3",
   "version": "3.7.4"
  }
 },
 "nbformat": 4,
 "nbformat_minor": 2
}
